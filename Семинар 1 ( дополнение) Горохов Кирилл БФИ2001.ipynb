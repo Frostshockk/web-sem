{
 "cells": [
  {
   "cell_type": "markdown",
   "metadata": {},
   "source": [
    "# Семинар 1 (дополнение)\n",
    "\n",
    "*Примечание: под программой в заданиях подразумевается просто блок работающего кода, который выполняет нужную задачу.* \n"
   ]
  },
  {
   "cell_type": "markdown",
   "metadata": {},
   "source": [
    "### Задание 1 (весеннее)\n",
    "\n",
    "С приходом весны питон решил каждый день выползать погреться на солнышко. Однако он знал, что солнце весной довольно активное, и поэтому разработал такую схему: в первый день он греется одну минуту, а в каждый последующий день увеличивает время пребывания на солнце на 3 минуты. Напишите код, который позволит вычислять, сколько минут питон будет тратить на солнечные ванны в некоторый выбранный день.\n",
    "\n",
    "*Внимание:* ваш код должен выводить номер дня и число минут. Использовать циклы нельзя, в задании предполагается многократный запуск ячеек с кодом."
   ]
  },
  {
   "cell_type": "code",
   "execution_count": 1,
   "metadata": {},
   "outputs": [
    {
     "name": "stdout",
     "output_type": "stream",
     "text": [
      "Enter a day: 5\n",
      "On day 5, Phyton will take a sun bath within 13 minutes\n"
     ]
    }
   ],
   "source": [
    "def check_value(n: int):\n",
    "    if not (0 <= n): # Проверка n на соответствие вхождения в границы допустимых значений\n",
    "        raise ValueError(\"Error! Day must be more then 0\") # Поднимает исключение ValueError\n",
    "\n",
    "def time_spent_in_sun_bath(k: int):\n",
    "    time = 1\n",
    "    if (k == 1): # Если дней = 1 , то общее время = 1\n",
    "        return time\n",
    "    else:\n",
    "        time = time + 3 * (k - 1) #Иначе увеличивается на 3 минуты\n",
    "    return time\n",
    "        \n",
    "    \n",
    "day_number = int(input(\"Enter a day: \")) \n",
    "check_value(day_number) #Проверка на 0\n",
    "print(\"On day \" + str(day_number)+\", Phyton will take a sun bath within \"+ str(time_spent_in_sun_bath(day_number)) + \" minutes\")\n"
   ]
  },
  {
   "cell_type": "markdown",
   "metadata": {},
   "source": [
    "### Задание 2 (приветственное)\n",
    "\n",
    "Напишите программу, которая запрашивает у пользователя имя и фамилию и выводит на экран сообщение "
   ]
  },
  {
   "cell_type": "markdown",
   "metadata": {},
   "source": [
    "```Имя Фамилия```, добро пожаловать!"
   ]
  },
  {
   "cell_type": "code",
   "execution_count": 2,
   "metadata": {},
   "outputs": [
    {
     "name": "stdout",
     "output_type": "stream",
     "text": [
      "Kirill Gorokhov\n",
      "Kirill Gorokhov, welcome!\n"
     ]
    }
   ],
   "source": [
    "Name = input()\n",
    "if (Name.isdigit()): # Проверка на корректность ввода(не число)\n",
    "    print(\"Error! Number entered!\")\n",
    "else:\n",
    "    print (Name + \", welcome!\")"
   ]
  },
  {
   "cell_type": "markdown",
   "metadata": {},
   "source": [
    "### Задание 3 (кулинарно-политологическое)\n",
    "\n",
    "Перед вами шаблон рецепта жизни политолога на факультете социальных наук:"
   ]
  },
  {
   "cell_type": "markdown",
   "metadata": {},
   "source": [
    "Рецепт\n",
    "\n",
    "`название курса`: 200 г\n",
    "\n",
    "`название курса`: 300 г\n",
    "\n",
    "`название курса`: 100 г\n",
    "\n",
    "Приправить политической историей. Добавить математические модели по вкусу."
   ]
  },
  {
   "cell_type": "markdown",
   "metadata": {},
   "source": [
    "Напишите код, который делает следующее: запрашивает у пользователя названия курсов (три отдельных вопроса), а потом подставляет их в имеющийся шаблон.\n",
    "\n",
    "*Пример:*"
   ]
  },
  {
   "cell_type": "markdown",
   "metadata": {},
   "source": [
    "```\n",
    "Введите название первого курса: политическая теория)\n",
    "Введите название второго курса: история политических учений\n",
    "Введите название третьего курса: математика\n",
    "```"
   ]
  },
  {
   "cell_type": "markdown",
   "metadata": {},
   "source": [
    "```\n",
    "Рецепт\n",
    "\n",
    "политическая теория : 200 г\n",
    "\n",
    "история политических учений: 300 г\n",
    "\n",
    "математика: 100 г\n",
    "\n",
    "Приправить политической историей. Добавить математические модели по вкусу.```"
   ]
  },
  {
   "cell_type": "code",
   "execution_count": 3,
   "metadata": {},
   "outputs": [
    {
     "name": "stdout",
     "output_type": "stream",
     "text": [
      "Enter the name of the first course: политическая теория\n",
      "Enter the name of the second course: история политических учений\n",
      "Enter the name of the third course: математика\n",
      "   Рецепт\n",
      "\n",
      "политическая теория : 200g\n",
      "история политических учений : 300g\n",
      "математика : 100g\n",
      "\n",
      "Приправить политической историей. Добавить математические модели по вкусу.\n"
     ]
    }
   ],
   "source": [
    "FirstCourse = input(\"Enter the name of the first course: \")\n",
    "SecondCourse = input(\"Enter the name of the second course: \")\n",
    "ThirdCourse = input(\"Enter the name of the third course: \")\n",
    "\n",
    "if (FirstCourse.isdigit() or SecondCourse.isdigit() or ThirdCourse.isdigit()):\n",
    "    print(\"Error! Number entered!\")\n",
    "else:\n",
    "    print (\"   Рецепт\")\n",
    "    print (\"\")\n",
    "    print (FirstCourse + \" : 200g\")\n",
    "    print (SecondCourse + \" : 300g\")\n",
    "    print (ThirdCourse + \" : 100g\")\n",
    "    print (\"\")\n",
    "    print (\"Приправить политической историей. Добавить математические модели по вкусу.\")"
   ]
  },
  {
   "cell_type": "markdown",
   "metadata": {},
   "source": [
    "### Задание 4 (кулинарно-математическое)\n",
    "\n",
    "У вас есть шаблон, похожий на шаблон рецепта из предыдущей задачи: "
   ]
  },
  {
   "cell_type": "markdown",
   "metadata": {},
   "source": [
    "```\n",
    "Рецепт\n",
    "\n",
    "политическая теория : __ кг\n",
    "\n",
    "история политических учений: __ кг\n",
    "\n",
    "математика: __ кг\n",
    "\n",
    "Приправить политической историей. Добавить математические модели по вкусу.```"
   ]
  },
  {
   "cell_type": "markdown",
   "metadata": {},
   "source": [
    "Напишите программу, которая запрашивает у пользователя три значения массы ингредиентов в граммах (три вопроса), переводит их в килограммы и подставляет полученные значения в шаблон так, чтобы числа содержали ровно 3 знака после запятой."
   ]
  },
  {
   "cell_type": "code",
   "execution_count": 4,
   "metadata": {},
   "outputs": [
    {
     "name": "stdout",
     "output_type": "stream",
     "text": [
      "Enter the number of the first ingredient in grams: 1000\n",
      "Enter the number of the second ingredient in grams: 123456789\n",
      "Enter the number of the third ingredient in grams: 321\n",
      "   Рецепт\n",
      "\n",
      "политическая теория : 1.0 кг\n",
      "история политических течений : 123456.789 кг\n",
      "математика : 0.321 кг\n",
      "\n",
      "Приправить политической историей. Добавить математические модели по вкусу\n"
     ]
    }
   ],
   "source": [
    "FirstCourse = float(input(\"Enter the number of the first ingredient in grams: \"))\n",
    "SecondCourse = float(input(\"Enter the number of the second ingredient in grams: \"))\n",
    "ThirdCourse = float(input(\"Enter the number of the third ingredient in grams: \"))\n",
    "\n",
    "print (\"   Рецепт\")\n",
    "print(\"\")\n",
    "\n",
    "print(\"политическая теория : \" + str(round(FirstCourse * 0.001,3)) + \" кг\")\n",
    "print(\"история политических течений : \" + str(round(SecondCourse * 0.001,3)) + \" кг\")\n",
    "print(\"математика : \" + str(round(ThirdCourse * 0.001,3)) + \" кг\")\n",
    "\n",
    "print(\"\")\n",
    "print(\"Приправить политической историей. Добавить математические модели по вкусу\")"
   ]
  }
 ],
 "metadata": {
  "kernelspec": {
   "display_name": "Python 3 (ipykernel)",
   "language": "python",
   "name": "python3"
  },
  "language_info": {
   "codemirror_mode": {
    "name": "ipython",
    "version": 3
   },
   "file_extension": ".py",
   "mimetype": "text/x-python",
   "name": "python",
   "nbconvert_exporter": "python",
   "pygments_lexer": "ipython3",
   "version": "3.9.7"
  }
 },
 "nbformat": 4,
 "nbformat_minor": 2
}
