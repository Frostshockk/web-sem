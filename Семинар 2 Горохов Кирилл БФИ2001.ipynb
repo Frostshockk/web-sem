{
 "cells": [
  {
   "cell_type": "markdown",
   "metadata": {},
   "source": [
    "## Семинар 2"
   ]
  },
  {
   "cell_type": "markdown",
   "metadata": {},
   "source": [
    "### Задача 1\n",
    "\n",
    "Напишите программу, которая запрашивает у пользователя его фамилию, имя, отчество, введенные в одну строчку через пробел, и выводит на экран сообщения:\n",
    "\n",
    "    Ваша фамилия: фамилия\n",
    "    Ваше имя: имя\n",
    "    Ваше отчество: отчество\n",
    "\n",
    "**Пример:**\n",
    "\n",
    "*Входные данные:*\n",
    "\n",
    "    Введите Ваши ФИО: Иванов Иван Иванович\n",
    "\n",
    "*Выходные данные:*\n",
    "\n",
    "    Ваша фамилия: Иванов\n",
    "    Ваше имя: Иван\n",
    "    Ваше отчество: Иванович"
   ]
  },
  {
   "cell_type": "code",
   "execution_count": 3,
   "metadata": {},
   "outputs": [
    {
     "name": "stdout",
     "output_type": "stream",
     "text": [
      "Введите ФИО: Горохов Кирилл Игоревич\n",
      "Ваша фамилия:Горохов\n",
      "Ваше имя:Кирилл\n",
      "Ваше отчество:Игоревич\n"
     ]
    }
   ],
   "source": [
    "fio = input(\"Введите ФИО: \").split()\n",
    "if (len(fio) < 3):\n",
    "    print(\"Ошибка! Введите полные данные! \")\n",
    "else:\n",
    "    print(\"Ваша фамилия:\" +fio[0])\n",
    "    print(\"Ваше имя: \" +fio[1])\n",
    "    print(\"Ваше отчество: \" +fio[2])"
   ]
  },
  {
   "cell_type": "markdown",
   "metadata": {},
   "source": [
    "### Задача 2\n",
    "\n",
    "Напишите программу, которая берет строку \"1; 2; 3; 100\" и возвращает:\n",
    "\n",
    "* список из целых чисел\n",
    "* список из чисел с плавающей точкой"
   ]
  },
  {
   "cell_type": "code",
   "execution_count": 15,
   "metadata": {},
   "outputs": [
    {
     "name": "stdout",
     "output_type": "stream",
     "text": [
      "Целые числа: \n",
      "1\n",
      "2\n",
      "3\n",
      "100\n",
      "С плавающей точкой: \n",
      "1.0\n",
      "2.0\n",
      "3.0\n",
      "100.0\n"
     ]
    }
   ],
   "source": [
    "values = \"1;2;3;100\".split(\";\")\n",
    "print(\"Целые числа: \",)\n",
    "for i in range(4):\n",
    "    print(int(values[i]))\n",
    "print(\"С плавающей точкой: \",)\n",
    "for i in range(4):\n",
    "    print(float(values[i]))"
   ]
  },
  {
   "cell_type": "markdown",
   "metadata": {},
   "source": [
    "### Задача 3\n",
    "\n",
    "Напишите программу, которая запрашивает у пользователя номер мобильного телефона, введенный через дефис, а возвращает номер, записанный без дефисов и пробелов.\n",
    "\n",
    "*Входные данные:*\n",
    "\n",
    "    8-900-123-45-67\n",
    "\n",
    "*Выходные данные:*\n",
    "\n",
    "    89001234567"
   ]
  },
  {
   "cell_type": "code",
   "execution_count": 18,
   "metadata": {},
   "outputs": [
    {
     "name": "stdout",
     "output_type": "stream",
     "text": [
      "Введите номер телефона: 8-918-479-38-12\n",
      "89184793812\n"
     ]
    }
   ],
   "source": [
    "phone_number = input(\"Введите номер телефона: \").split(\"-\")\n",
    "print(\"\".join(phone_number))"
   ]
  },
  {
   "cell_type": "markdown",
   "metadata": {},
   "source": [
    "### Задача 4\n",
    "\n",
    "Напишите программу, которая принимает на вход список L, в котором хранятся значения доходов домохозяйств за месяц, а возвращает новый список L2 ‒ список логарифмированных значений доходов."
   ]
  },
  {
   "cell_type": "code",
   "execution_count": 25,
   "metadata": {},
   "outputs": [
    {
     "name": "stdout",
     "output_type": "stream",
     "text": [
      "Лист доходов:\n",
      "[32000, 35000, 12500, 6000, 5100]\n",
      "Лист доходов после логарифмирования:\n",
      "[10.373491181781864, 10.46310334047155, 9.433483923290392, 8.699514748210191, 8.536995818712418]\n"
     ]
    }
   ],
   "source": [
    "import math\n",
    "\n",
    "income = [32000,35000,12500,6000,5100]\n",
    "log_income = []\n",
    "for i in range(len(income)):\n",
    "    log_income.append(math.log(income[i]))\n",
    "print(\"Лист доходов:\")\n",
    "print(income)\n",
    "print(\"Лист доходов после логарифмирования:\")\n",
    "print(log_income)"
   ]
  },
  {
   "cell_type": "markdown",
   "metadata": {},
   "source": [
    "### Задача 5\n",
    "\n",
    "Напишите программу, которая принимает на вход список слов такого вида:\n",
    "\n",
    "    words = [\"Speak \",\"to\", \"me \", \"of\", \"Florence\" ,\"And \", \"of\", \"the\", \"Renaissance\"]\n",
    "\n",
    "а возвращает список\n",
    "\n",
    "    words_clean = [\"speak\", \"to\", \"me\", \"of\", \"florence\", \"and\", \"of\", \"the\", \"renaissance\"]\n",
    "\n",
    "Другими словами, программа убирает пробелы в словах и приводит все слова к нижнему регистру.\n",
    "\n",
    "**Подсказка:** запросите `help()`  по  методам `strip()` и `lower()`."
   ]
  },
  {
   "cell_type": "code",
   "execution_count": 26,
   "metadata": {},
   "outputs": [
    {
     "name": "stdout",
     "output_type": "stream",
     "text": [
      "['speak ', 'to', 'me ', 'of', 'florence', 'and ', 'of', 'the', 'renaissance']\n"
     ]
    }
   ],
   "source": [
    "words = [\"Speak \",\"to\", \"me \", \"of\", \"Florence\" ,\"And \", \"of\", \"the\", \"Renaissance\"]\n",
    "words_clean = []\n",
    "for i in words:\n",
    "    words_clean.append(i.lower())\n",
    "print(words_clean)"
   ]
  },
  {
   "cell_type": "code",
   "execution_count": null,
   "metadata": {},
   "outputs": [],
   "source": []
  }
 ],
 "metadata": {
  "kernelspec": {
   "display_name": "Python 3 (ipykernel)",
   "language": "python",
   "name": "python3"
  },
  "language_info": {
   "codemirror_mode": {
    "name": "ipython",
    "version": 3
   },
   "file_extension": ".py",
   "mimetype": "text/x-python",
   "name": "python",
   "nbconvert_exporter": "python",
   "pygments_lexer": "ipython3",
   "version": "3.9.7"
  }
 },
 "nbformat": 4,
 "nbformat_minor": 2
}
