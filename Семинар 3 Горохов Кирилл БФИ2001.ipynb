{
 "cells": [
  {
   "cell_type": "markdown",
   "metadata": {},
   "source": [
    "## Семинар 3"
   ]
  },
  {
   "cell_type": "markdown",
   "metadata": {},
   "source": [
    "### Задача 1\n",
    "\n",
    "Напишите программу, которая просит пользователя ввести положительное число, и если пользователь вводит положительное число, выводит на экран сообщение \"Молодец!\", если нет ‒ \"Это не положительное число.\".\n",
    "\n",
    "Считайте, что пользователь в любом случае вводит числа, а не какой-то текст."
   ]
  },
  {
   "cell_type": "code",
   "execution_count": 1,
   "metadata": {},
   "outputs": [
    {
     "name": "stdout",
     "output_type": "stream",
     "text": [
      "Введите положительное число: 121\n",
      "Молодец!\n"
     ]
    }
   ],
   "source": [
    "def less_or_higher_then_zero(number):\n",
    "    if number > 0:\n",
    "        print(\"Молодец!\")\n",
    "    elif number < 0:\n",
    "        print(\"Это не положительное число.\")\n",
    "    else:\n",
    "        print(\"Это не положительное и не отрицательное число!\")\n",
    "\n",
    "        \n",
    "        \n",
    "number = int(input(\"Введите положительное число: \"))\n",
    "less_or_higher_then_zero(number)"
   ]
  },
  {
   "cell_type": "markdown",
   "metadata": {},
   "source": [
    "### Задача 2\n",
    "\n",
    "Напишите программу, которая принимает на вход список оценок студентов от 1 до 10, выводит на экран оценку, а после нее, с новой строки, комментарий \"Плохо\", \"Удовлетворительно\", \"Хорошо\", \"Отлично\" в зависимости от оценки."
   ]
  },
  {
   "cell_type": "code",
   "execution_count": 2,
   "metadata": {},
   "outputs": [
    {
     "name": "stdout",
     "output_type": "stream",
     "text": [
      "Введите оценки студентов через пробел: 10 9 8 7 6 5 4\n",
      "Оценки:\n",
      "['10', '9', '8', '7', '6', '5', '4']\n",
      "Результаты: \n",
      "Отлично\n",
      "Хорошо\n",
      "Хорошо\n",
      "Удовлетворительно\n",
      "Удовлетворительно\n",
      "Плохо\n",
      "Плохо\n"
     ]
    }
   ],
   "source": [
    "def get_results(marks):\n",
    "    print(\"Оценки:\")\n",
    "    print(marks)\n",
    "    print(\"Результаты: \")\n",
    "    for i in range(len(marks)):\n",
    "        ans = marks_dict.get(marks[i])\n",
    "        print(ans)\n",
    "        \n",
    "marks_dict = {\n",
    "    \"10\" : 'Отлично',\n",
    "    \"9\" : 'Хорошо',\n",
    "    \"8\" : 'Хорошо',\n",
    "    \"7\" : 'Удовлетворительно',\n",
    "    \"6\" : 'Удовлетворительно',\n",
    "    \"5\" : 'Плохо',\n",
    "    \"4\" : 'Плохо',\n",
    "    \"3\" : 'Плохо',\n",
    "    \"2\" : 'Плохо',\n",
    "    \"1\" : 'Плохо'\n",
    "}\n",
    "\n",
    "marks =input(\"Введите оценки студентов через пробел: \").split()\n",
    "get_results(marks)"
   ]
  },
  {
   "cell_type": "markdown",
   "metadata": {},
   "source": [
    "### Задача 3\n",
    "\n",
    "Напишите программу, которая запрашивает у пользователя пароль, и далее:\n",
    "\n",
    "- если пароль верный, выводит на экран сообщение \"Login success\".\n",
    "- если пароль неверный, выводит на экран сообщение \"Incorrect password, try again!\" до тех пор, пока пользователь не введет верный пароль."
   ]
  },
  {
   "cell_type": "code",
   "execution_count": 3,
   "metadata": {},
   "outputs": [
    {
     "name": "stdout",
     "output_type": "stream",
     "text": [
      "Задайте пароль аккаунту: 4321\n",
      "\n",
      "Введите пароль: 4321\n",
      "Login success\n"
     ]
    }
   ],
   "source": [
    "\n",
    "def get_correct_input(account_password):\n",
    "    flag = 0\n",
    "    while flag != 1:\n",
    "        input_password = input(\"\\nВведите пароль: \")\n",
    "        flag = check_password(account_password, input_password)\n",
    "        if flag == 1:\n",
    "            print(\"Login success\")\n",
    "        else:\n",
    "            print(\"Incorrect password, try again!\")\n",
    "            \n",
    "def check_password(account_password, input_password):\n",
    "    if account_password == input_password:\n",
    "        return 1\n",
    "    else:\n",
    "        return 0\n",
    "\n",
    "account_password = input(\"Задайте пароль аккаунту: \")\n",
    "get_correct_input(account_password)"
   ]
  },
  {
   "cell_type": "markdown",
   "metadata": {},
   "source": [
    "### Задача 4\n",
    "\n",
    "У питона есть набор любимых чисел.\n",
    "\n",
    "    favorites = [3, 7, 11, 23, 18, 48, 81]\n",
    "\n",
    "Напишите программу, которая просит пользователя ввести целое число, и если оно нравится питону, на экран будет выводиться сообщение: \"Мое любимое число!\", если нет ‒ \"Эх, ну почему?\"."
   ]
  },
  {
   "cell_type": "code",
   "execution_count": 4,
   "metadata": {},
   "outputs": [
    {
     "name": "stdout",
     "output_type": "stream",
     "text": [
      "Введите число: 11\n",
      "Мое любимое число!\n"
     ]
    }
   ],
   "source": [
    "def fav_numbers(favorites, number):\n",
    "    if number in favorites:\n",
    "        print(\"Мое любимое число!\")\n",
    "    else:\n",
    "        print(\"Эх, ну почему?\")\n",
    "    \n",
    "favorites = [3, 7, 11, 23, 18, 48, 81]\n",
    "number = int(input(\"Введите число: \"))\n",
    "fav_numbers(favorites, number)"
   ]
  },
  {
   "cell_type": "markdown",
   "metadata": {},
   "source": [
    "### Задача 5\n",
    "\n",
    "Напишите программу, которая просит пользователя ввести число и, если оно чётное, выводит на экран сообщение: \"Это число чётное\", если нечётное ‒ \"Это число нечётное\"."
   ]
  },
  {
   "cell_type": "code",
   "execution_count": 5,
   "metadata": {},
   "outputs": [
    {
     "name": "stdout",
     "output_type": "stream",
     "text": [
      "Введите число: 12\n",
      "Это число чётное\n"
     ]
    }
   ],
   "source": [
    "def even_or_odd(number):\n",
    "    if number % 2 == 0:\n",
    "        print(\"Это число чётное\")\n",
    "    else:\n",
    "        print(\"Это число нечётное\")\n",
    "\n",
    "number = int(input(\"Введите число: \"))\n",
    "even_or_odd(number)"
   ]
  },
  {
   "cell_type": "markdown",
   "metadata": {},
   "source": [
    "### Задача 6\n",
    "\n",
    "Напишите программу, которая просит пользователя ввести существительное, и если слово введено с большой буквы, то на экран выводится сообщение \"Это имя собственное.\", если с маленькой ‒ сообщение \"Это имя нарицательное\"."
   ]
  },
  {
   "cell_type": "code",
   "execution_count": 6,
   "metadata": {},
   "outputs": [
    {
     "name": "stdout",
     "output_type": "stream",
     "text": [
      "Введите существительное: собака\n",
      "Это имя нарицательное\n"
     ]
    }
   ],
   "source": [
    "def get_word_info(word):\n",
    "    if word[0].isupper():\n",
    "        print(\"Это имя собственное.\")\n",
    "    else:\n",
    "        print(\"Это имя нарицательное\")\n",
    "        \n",
    "word = input(\"Введите существительное: \")\n",
    "get_word_info(word)"
   ]
  },
  {
   "cell_type": "code",
   "execution_count": null,
   "metadata": {},
   "outputs": [],
   "source": []
  },
  {
   "cell_type": "code",
   "execution_count": null,
   "metadata": {},
   "outputs": [],
   "source": []
  }
 ],
 "metadata": {
  "kernelspec": {
   "display_name": "Python 3 (ipykernel)",
   "language": "python",
   "name": "python3"
  },
  "language_info": {
   "codemirror_mode": {
    "name": "ipython",
    "version": 3
   },
   "file_extension": ".py",
   "mimetype": "text/x-python",
   "name": "python",
   "nbconvert_exporter": "python",
   "pygments_lexer": "ipython3",
   "version": "3.9.7"
  }
 },
 "nbformat": 4,
 "nbformat_minor": 2
}
