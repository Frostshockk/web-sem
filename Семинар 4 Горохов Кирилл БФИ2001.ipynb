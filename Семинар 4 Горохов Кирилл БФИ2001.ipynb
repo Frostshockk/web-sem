{
 "cells": [
  {
   "cell_type": "markdown",
   "metadata": {},
   "source": [
    "## Семинар 4 по темам: кортежи и словари"
   ]
  },
  {
   "cell_type": "markdown",
   "metadata": {},
   "source": [
    "### Задача 1\n",
    "\n",
    "Дан словарь с названиями разных рептилий:"
   ]
  },
  {
   "cell_type": "code",
   "execution_count": 4,
   "metadata": {},
   "outputs": [],
   "source": [
    "rept = {\"python\" : \" питон\", \n",
    "        \"anaconda\" : \"анаконда\", \n",
    "        \"tortoize\" : \" черепаха\" }"
   ]
  },
  {
   "cell_type": "markdown",
   "metadata": {},
   "source": [
    "* Добавьте в словарь пару \"snake\" - \" змея\".\n",
    "* Исправьте ключ \"tortoize\" на правильный \"tortoise\".\n",
    "* Выведите на экран сообщения вида\n",
    "\n",
    "    Питон по-английски будет python.\n",
    "\n",
    "для всех слов в словаре (сообщение для каждого слова ‒ с новой строчки)."
   ]
  },
  {
   "cell_type": "code",
   "execution_count": 5,
   "metadata": {},
   "outputs": [
    {
     "name": "stdout",
     "output_type": "stream",
     "text": [
      "питон по-английски будет python\n",
      "анаконда по-английски будет anaconda\n",
      "змея по-английски будет snake\n",
      "черепаха по-английски будет tortoise\n"
     ]
    }
   ],
   "source": [
    "rept = {\"python\" : \"питон\", \n",
    "        \"anaconda\" : \"анаконда\", \n",
    "        \"tortoize\" : \"черепаха\" }\n",
    "\n",
    "rept[\"snake\"] = \"змея\"\n",
    "rept[\"tortoise\"] = rept.pop(\"tortoize\")\n",
    "for key in rept:\n",
    "    print(rept[key][0] + rept[key][1:] + \" по-английски будет\", key)"
   ]
  },
  {
   "cell_type": "markdown",
   "metadata": {},
   "source": [
    "### Задача 2\n",
    "\n",
    "В списке `cnt` хранятся названия стран, а в списке `fh` – значения индекса Freedom House  для этих стран. Создайте словарь, используя в качестве ключей названия стран, а в качестве значений –  значения индекса."
   ]
  },
  {
   "cell_type": "code",
   "execution_count": 1,
   "metadata": {},
   "outputs": [
    {
     "name": "stdout",
     "output_type": "stream",
     "text": [
      "{'Andorra': 1.0, 'Belarus': 6.0, 'Denmark': 1.0, 'Kenya': 4.0, 'Jamaica': 2.5, 'Romania': 2.0}\n"
     ]
    }
   ],
   "source": [
    "cnt = [\"Andorra\", \"Belarus\", \"Denmark\", \n",
    "       \"Kenya\", \"Jamaica\", \"Romania\"]\n",
    "fh = [1.0, 6.0, 1.0, 4.0, 2.5, 2.0]\n",
    "cnt = dict(zip(cnt, fh))\n",
    "print(cnt)"
   ]
  },
  {
   "cell_type": "markdown",
   "metadata": {},
   "source": [
    "### Задача 3\n",
    "\n",
    "Дан список, состоящий из пар чисел:"
   ]
  },
  {
   "cell_type": "code",
   "execution_count": 6,
   "metadata": {},
   "outputs": [],
   "source": [
    "pairs = [(2, 4), (4, 6), (0, 1), (5, 2), (9, 1), (3, 8)]"
   ]
  },
  {
   "cell_type": "markdown",
   "metadata": {},
   "source": [
    "Создайте словарь `calc`, где ключами являются пары чисел, а значениями – их произведение (произведение тоже должно считаться в Python, не в уме)."
   ]
  },
  {
   "cell_type": "code",
   "execution_count": 2,
   "metadata": {},
   "outputs": [
    {
     "name": "stdout",
     "output_type": "stream",
     "text": [
      "{(2, 4): 8, (4, 6): 24, (0, 1): 0, (5, 2): 10, (9, 1): 9, (3, 8): 24}\n"
     ]
    }
   ],
   "source": [
    "pairs = [(2, 4), (4, 6), (0, 1), (5, 2), (9, 1), (3, 8)]\n",
    "calc = {}\n",
    "for pair in pairs:\n",
    "    a, b = pair[0] , pair[1]\n",
    "    calc[pair] = a * b\n",
    "print(calc)"
   ]
  },
  {
   "cell_type": "markdown",
   "metadata": {},
   "source": [
    "### Задача 4\n",
    "\n",
    "Дан словарь `grades` с оценками студентов за контрольную работу в 5-балльной шкале. Напишите код, который сделает следующее: \n",
    "\n",
    "* Выведет на экран имя каждого студента и его оценку (каждый студент – с новой строки).\n",
    "* Сохранит имена студентов, получивших отличные оценки, в список `excel`.\n",
    "* Сохранит имена студентов, получивших хорошие оценки, в список `good`.\n",
    "* Сохранит имена студентов, получивших удовлетворительные оценки, в список `satisf`.\n",
    "* Сохранит имена студентов, получивших плохие оценки, в список `bad`. "
   ]
  },
  {
   "cell_type": "code",
   "execution_count": 7,
   "metadata": {},
   "outputs": [
    {
     "name": "stdout",
     "output_type": "stream",
     "text": [
      "\n",
      "Имя: Anna\n",
      "Оценка: 4\n",
      "\n",
      "Имя: Bob\n",
      "Оценка: 3\n",
      "\n",
      "Имя: Claire\n",
      "Оценка: 5\n",
      "\n",
      "Имя: Dick\n",
      "Оценка: 2\n",
      "\n",
      "Имя: Elena\n",
      "Оценка: 5\n",
      "\n",
      "Имя: Fred\n",
      "Оценка: 5\n",
      "\n",
      "Имя: George\n",
      "Оценка: 4\n",
      "\n",
      "Имя: Kristina\n",
      "Оценка: 3\n",
      "\n",
      "Имя: Nick\n",
      "Оценка: 2\n",
      "\n",
      "Имя: Ursula\n",
      "Оценка: 4\n",
      "\n",
      "Имя: Viktor\n",
      "Оценка: 5\n",
      "\n",
      "Плохие оценки у: ['Dick', 'Nick']\n",
      "Удовритворительные оценки у: ['Bob', 'Kristina']\n",
      "Хорошие оценки у: ['Anna', 'George', 'Ursula']\n",
      "Отличные оценки у: ['Claire', 'Elena', 'Fred', 'Viktor']\n"
     ]
    }
   ],
   "source": [
    "grades = {'Anna': 4, 'Bob': 3, 'Claire': 5, 'Dick': 2, 'Elena': 5, \n",
    "         'Fred': 5, 'George': 4, 'Kristina': 3, 'Nick': 2, \n",
    "         'Ursula': 4, 'Viktor': 5}\n",
    "\n",
    "excel = []\n",
    "good = []\n",
    "satisf = []\n",
    "bad = []\n",
    "\n",
    "for key in grades:\n",
    "    print(\"\\nИмя: \" + key)\n",
    "    print(\"Оценка:\", grades[key])\n",
    "    if grades[key] == 2:\n",
    "        bad.append(key)\n",
    "    elif grades[key] == 3:\n",
    "        satisf.append(key)\n",
    "    elif grades[key] == 4:\n",
    "        good.append(key)\n",
    "    elif grades[key] == 5:\n",
    "        excel.append(key)\n",
    "        \n",
    "print(\"\\nПлохие оценки у:\", bad)\n",
    "print(\"Удовритворительные оценки у:\", satisf)   \n",
    "print(\"Хорошие оценки у:\", good)\n",
    "print(\"Отличные оценки у:\", excel)"
   ]
  },
  {
   "cell_type": "code",
   "execution_count": null,
   "metadata": {},
   "outputs": [],
   "source": []
  }
 ],
 "metadata": {
  "kernelspec": {
   "display_name": "Python 3 (ipykernel)",
   "language": "python",
   "name": "python3"
  },
  "language_info": {
   "codemirror_mode": {
    "name": "ipython",
    "version": 3
   },
   "file_extension": ".py",
   "mimetype": "text/x-python",
   "name": "python",
   "nbconvert_exporter": "python",
   "pygments_lexer": "ipython3",
   "version": "3.9.7"
  }
 },
 "nbformat": 4,
 "nbformat_minor": 2
}
